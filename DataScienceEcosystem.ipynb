{
 "cells": [
  {
   "cell_type": "markdown",
   "id": "90256ed9-4b91-4ac6-b6b9-86d43f8eb952",
   "metadata": {},
   "source": [
    "**Exercise 2 - Create a markdown cell with the title of the notebook. (1 pt)**"
   ]
  },
  {
   "cell_type": "markdown",
   "id": "4ba9078f-788c-4aa2-a109-7f733aa4f117",
   "metadata": {},
   "source": [
    "# Data Science Tools and Ecosystem"
   ]
  },
  {
   "cell_type": "markdown",
   "id": "670fa93e-b641-47dd-bae2-12957a0f4802",
   "metadata": {
    "tags": []
   },
   "source": [
    "**Exercise 3 - Create a markdown cell for an introduction**"
   ]
  },
  {
   "cell_type": "markdown",
   "id": "8db8ee33-a66b-4ae2-8cd0-24ca8927e8fb",
   "metadata": {},
   "source": [
    "In this notebook, Data Science Tools and Ecosystem are summarized."
   ]
  },
  {
   "cell_type": "markdown",
   "id": "63d1c2d3-3335-4627-8084-b8bb42a29d34",
   "metadata": {},
   "source": [
    "**Exercise 10 -Insert a markdown cell to list Objectives. (3 pts)**"
   ]
  },
  {
   "cell_type": "markdown",
   "id": "4ffc5f0a-2e03-4ba6-8a8d-021555147568",
   "metadata": {},
   "source": [
    "**Objectives**\n",
    "+ List popular languages for Data Science\n",
    "+ List popular libraries for Data Science\n",
    "+ A table wih the most popular Data Science Tools\n",
    "+ A few examples of evaluating arithmetic expressions in Python"
   ]
  },
  {
   "cell_type": "markdown",
   "id": "15d79e9f-d047-453a-a4bf-5e6d0851517f",
   "metadata": {},
   "source": [
    "**Exercise 4 - Create a markdown cell to list data science languages. (3 pts)**"
   ]
  },
  {
   "cell_type": "markdown",
   "id": "a3cb8d25-42af-4f7b-b3c3-7329ee79d94c",
   "metadata": {},
   "source": [
    "Some of the popular languages that Data Scientists use are:\n",
    "\n",
    "1. Python\n",
    "2. R\n",
    "3. Julia\n",
    "4. SQL"
   ]
  },
  {
   "cell_type": "markdown",
   "id": "e49af12b-5ec9-4e75-ab33-e33beb515721",
   "metadata": {},
   "source": [
    "**Exercise 5 - Create a markdown cell to list data science libraries. (3 pts)**"
   ]
  },
  {
   "cell_type": "markdown",
   "id": "eca4b24c-dd68-4206-9d4f-cc94cc5b78fb",
   "metadata": {},
   "source": [
    "Some of the commonly used libraries used by Data Scientists include:\n",
    "1. NumPy\n",
    "2. Pandas\n",
    "3. Matplotlib\n",
    "4. TensorFlow\n",
    "5. PyTorch"
   ]
  },
  {
   "cell_type": "markdown",
   "id": "fdec4a76-edf0-4414-960a-73d0e17f113f",
   "metadata": {},
   "source": [
    "**Exercise 6 - Create a markdown cell with a table of Data Science tools. (3 pts)**"
   ]
  },
  {
   "cell_type": "markdown",
   "id": "87e990bd-726d-4796-9e60-9144fc39ae73",
   "metadata": {},
   "source": [
    "## Data Science Tools\n",
    "\n",
    "| Data Science Tools |\n",
    "| --------------|\n",
    "| Jupyter Notebooks |\n",
    "| RStudio |\n",
    "| VS Code |"
   ]
  },
  {
   "cell_type": "markdown",
   "id": "7c97eb77-0b24-4e1f-924f-3ebe204c6ed1",
   "metadata": {
    "tags": []
   },
   "source": [
    "**Exercise 7 - Create a markdown cell introducing arithmetic expression examples. (1 pt)**"
   ]
  },
  {
   "cell_type": "markdown",
   "id": "e6911cb4-09e9-4c80-9e91-43f9889c5704",
   "metadata": {},
   "source": [
    "### Below are a few examples of evaluating arithmetic expressions in Python"
   ]
  },
  {
   "cell_type": "markdown",
   "id": "7c397798-ad1e-4b3c-b213-656b6dc35b2a",
   "metadata": {},
   "source": [
    "**Exercise 8 - Create a code cell to multiply and add numbers. (2 pts)**"
   ]
  },
  {
   "cell_type": "code",
   "execution_count": 1,
   "id": "8afa8834-54b7-4c65-b446-c32e5dbaf312",
   "metadata": {
    "tags": []
   },
   "outputs": [
    {
     "data": {
      "text/plain": [
       "17"
      ]
     },
     "execution_count": 1,
     "metadata": {},
     "output_type": "execute_result"
    }
   ],
   "source": [
    "#This a simple arithmetic expression to mutiply then add integers\n",
    "\n",
    "\n",
    "(3*4)+5"
   ]
  },
  {
   "cell_type": "markdown",
   "id": "7d50e6a2-aa9f-4d53-8316-1f51bb3238d1",
   "metadata": {},
   "source": [
    "**Exercise 9 - Create a code cell to convert minutes to hours. (2 pts)**"
   ]
  },
  {
   "cell_type": "code",
   "execution_count": 2,
   "id": "afaac1da-ee3c-4036-a811-96196eff5443",
   "metadata": {
    "tags": []
   },
   "outputs": [
    {
     "data": {
      "text/plain": [
       "3.3333333333333335"
      ]
     },
     "execution_count": 2,
     "metadata": {},
     "output_type": "execute_result"
    }
   ],
   "source": [
    "#This will convert 200 minutes to hours by diving by 60\n",
    "\n",
    "(200 / 60)"
   ]
  },
  {
   "cell_type": "markdown",
   "id": "7fde7df8-440f-4517-b27b-0eca19924291",
   "metadata": {},
   "source": [
    "**Exercise 11 - Create a markdown cell to indicate the Author’s name. (2 pts)**"
   ]
  },
  {
   "cell_type": "markdown",
   "id": "064335a7-9db5-42e1-8b15-5c16054a5d94",
   "metadata": {},
   "source": [
    "## Author\n",
    "Alessandra Andrade Ac"
   ]
  }
 ],
 "metadata": {
  "kernelspec": {
   "display_name": "Python",
   "language": "python",
   "name": "conda-env-python-py"
  },
  "language_info": {
   "codemirror_mode": {
    "name": "ipython",
    "version": 3
   },
   "file_extension": ".py",
   "mimetype": "text/x-python",
   "name": "python",
   "nbconvert_exporter": "python",
   "pygments_lexer": "ipython3",
   "version": "3.7.12"
  }
 },
 "nbformat": 4,
 "nbformat_minor": 5
}
