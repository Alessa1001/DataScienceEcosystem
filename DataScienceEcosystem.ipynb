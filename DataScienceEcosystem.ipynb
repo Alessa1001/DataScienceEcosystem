{
 "cells": [
  {
   "cell_type": "markdown",
   "id": "4ba9078f-788c-4aa2-a109-7f733aa4f117",
   "metadata": {},
   "source": [
    "# Data Science Tools and Ecosystem"
   ]
  },
  {
   "cell_type": "markdown",
   "id": "8db8ee33-a66b-4ae2-8cd0-24ca8927e8fb",
   "metadata": {},
   "source": [
    "In this notebook, Data Science Tools and Ecosystem are summarized."
   ]
  },
  {
   "cell_type": "markdown",
   "id": "4ffc5f0a-2e03-4ba6-8a8d-021555147568",
   "metadata": {},
   "source": [
    "**Objectives**\n",
    "+ List popular languages for Data Science\n",
    "+ List popular libraries for Data Science\n",
    "+ A table wih the most popular Data Science Tools\n",
    "+ A few examples of evaluating arithmetic expressions in Python"
   ]
  },
  {
   "cell_type": "markdown",
   "id": "a3cb8d25-42af-4f7b-b3c3-7329ee79d94c",
   "metadata": {},
   "source": [
    "Some of the popular languages that Data Scientists use are:\n",
    "\n",
    "1. Python\n",
    "2. R\n",
    "3. Julia\n",
    "4. SQL"
   ]
  },
  {
   "cell_type": "markdown",
   "id": "eca4b24c-dd68-4206-9d4f-cc94cc5b78fb",
   "metadata": {},
   "source": [
    "Some of the commonly used libraries used by Data Scientists include:\n",
    "1. NumPy\n",
    "2. Pandas\n",
    "3. Matplotlib\n",
    "4. TensorFlow\n",
    "5. PyTorch"
   ]
  },
  {
   "cell_type": "markdown",
   "id": "87e990bd-726d-4796-9e60-9144fc39ae73",
   "metadata": {},
   "source": [
    "## Data Science Tools\n",
    "\n",
    "| Data Science Tools |\n",
    "| --------------|\n",
    "| Jupyter Notebooks |\n",
    "| RStudio |\n",
    "| VS Code |"
   ]
  },
  {
   "cell_type": "markdown",
   "id": "e6911cb4-09e9-4c80-9e91-43f9889c5704",
   "metadata": {},
   "source": [
    "### Below are a few examples of evaluating arithmetic expressions in Python"
   ]
  },
  {
   "cell_type": "code",
   "execution_count": 1,
   "id": "8afa8834-54b7-4c65-b446-c32e5dbaf312",
   "metadata": {
    "tags": []
   },
   "outputs": [
    {
     "data": {
      "text/plain": [
       "17"
      ]
     },
     "execution_count": 1,
     "metadata": {},
     "output_type": "execute_result"
    }
   ],
   "source": [
    "#This a simple arithmetic expression to mutiply then add integers\n",
    "\n",
    "\n",
    "(3*4)+5"
   ]
  },
  {
   "cell_type": "code",
   "execution_count": 2,
   "id": "afaac1da-ee3c-4036-a811-96196eff5443",
   "metadata": {
    "tags": []
   },
   "outputs": [
    {
     "data": {
      "text/plain": [
       "3.3333333333333335"
      ]
     },
     "execution_count": 2,
     "metadata": {},
     "output_type": "execute_result"
    }
   ],
   "source": [
    "#This will convert 200 minutes to hours by diving by 60\n",
    "\n",
    "(200 / 60)"
   ]
  },
  {
   "cell_type": "markdown",
   "id": "064335a7-9db5-42e1-8b15-5c16054a5d94",
   "metadata": {},
   "source": [
    "## Author\n",
    "Alessandra Andrade Ac"
   ]
  },
  {
   "cell_type": "code",
   "execution_count": null,
   "id": "8d288453-fba9-40bf-9e19-0a17277e1b25",
   "metadata": {},
   "outputs": [],
   "source": []
  }
 ],
 "metadata": {
  "kernelspec": {
   "display_name": "Python",
   "language": "python",
   "name": "conda-env-python-py"
  },
  "language_info": {
   "codemirror_mode": {
    "name": "ipython",
    "version": 3
   },
   "file_extension": ".py",
   "mimetype": "text/x-python",
   "name": "python",
   "nbconvert_exporter": "python",
   "pygments_lexer": "ipython3",
   "version": "3.7.12"
  }
 },
 "nbformat": 4,
 "nbformat_minor": 5
}
